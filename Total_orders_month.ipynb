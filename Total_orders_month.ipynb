{
 "cells": [
  {
   "cell_type": "code",
   "execution_count": 15,
   "metadata": {},
   "outputs": [],
   "source": [
    "# import libraries\n",
    "import mysql.connector\n",
    "import plotly.express as px\n",
    "\n",
    "import pandas as pd\n",
    "import zipfile\n",
    "import os\n",
    "import mysql.connector\n",
    "from sqlalchemy import create_engine\n",
    "import matplotlib.pyplot as plt\n",
    "\n",
    "from datetime import datetime"
   ]
  },
  {
   "cell_type": "code",
   "execution_count": 16,
   "metadata": {},
   "outputs": [],
   "source": [
    "# Load the CSV file\n",
    "# in excel I deleted the last column\n",
    "# otherwise, it had erros with loading data\n",
    "orders_df = pd.read_csv('orders.csv', engine='python', on_bad_lines='warn')\n"
   ]
  },
  {
   "cell_type": "code",
   "execution_count": 17,
   "metadata": {},
   "outputs": [],
   "source": [
    "# Load the CSV file\n",
    "order_details_df = pd.read_csv('order-details.csv')"
   ]
  },
  {
   "cell_type": "code",
   "execution_count": 27,
   "metadata": {},
   "outputs": [
    {
     "name": "stdout",
     "output_type": "stream",
     "text": [
      "   orderID requiredDate\n",
      "0    10248   2024-10-17\n",
      "1    10249   2024-10-17\n",
      "2    10250   2024-10-17\n",
      "3    10251   2024-10-17\n",
      "4    10252   2024-10-17\n",
      "5    10253   2024-10-17\n",
      "6    10254   2024-10-17\n",
      "7    10255   2024-10-17\n",
      "8    10256   2024-10-17\n",
      "9    10257   2024-10-17\n"
     ]
    }
   ],
   "source": [
    "# Clean and filter orders for the year 2023\n",
    "orders_df['requiredDate'] = pd.to_datetime(orders_df['requiredDate'], errors='coerce')\n",
    "orders_2023 = orders_df[orders_df['requiredDate'].dt.year == 2023]\n",
    "print(orders_df[['orderID', 'requiredDate']].head(10))  # Inspect the first 10 rows of orders_df\n"
   ]
  },
  {
   "cell_type": "code",
   "execution_count": 28,
   "metadata": {},
   "outputs": [
    {
     "name": "stdout",
     "output_type": "stream",
     "text": [
      "   orderID  orderDate\n",
      "0    10248 2024-10-17\n",
      "1    10249 2024-10-17\n",
      "2    10250 2024-10-17\n",
      "3    10251 2024-10-17\n",
      "4    10252 2024-10-17\n",
      "5    10253 2024-10-17\n",
      "6    10254 2024-10-17\n",
      "7    10255 2024-10-17\n",
      "8    10256 2024-10-17\n",
      "9    10257 2024-10-17\n"
     ]
    }
   ],
   "source": [
    "# Clean and filter orders for the year 2023\n",
    "orders_df['orderDate'] = pd.to_datetime(orders_df['orderDate'], errors='coerce')\n",
    "orders_2023 = orders_df[orders_df['orderDate'].dt.year == 2023]\n",
    "print(orders_df[['orderID', 'orderDate']].head(10))  # Inspect the first 10 rows of orders_df"
   ]
  },
  {
   "cell_type": "code",
   "execution_count": 23,
   "metadata": {},
   "outputs": [
    {
     "name": "stdout",
     "output_type": "stream",
     "text": [
      "      orderID  productID  unitPrice  quantity  discount  total_amount\n",
      "0       10248         11      14.00        12      0.00         168.0\n",
      "1       10248         42       9.80        10      0.00          98.0\n",
      "2       10248         72      34.80         5      0.00         174.0\n",
      "3       10249         14      18.60         9      0.00         167.4\n",
      "4       10249         51      42.40        40      0.00        1696.0\n",
      "...       ...        ...        ...       ...       ...           ...\n",
      "2150    11077         64      33.25         2      0.03          66.5\n",
      "2151    11077         66      17.00         1      0.00          17.0\n",
      "2152    11077         73      15.00         2      0.01          30.0\n",
      "2153    11077         75       7.75         4      0.00          31.0\n",
      "2154    11077         77      13.00         2      0.00          26.0\n",
      "\n",
      "[2155 rows x 6 columns]\n"
     ]
    }
   ],
   "source": [
    "\n",
    "# Calculate total order amount (unitPrice * quantity)\n",
    "order_details_df['total_amount'] = order_details_df['unitPrice'] * order_details_df['quantity']\n",
    "print(order_details_df)"
   ]
  },
  {
   "cell_type": "code",
   "execution_count": 24,
   "metadata": {},
   "outputs": [
    {
     "name": "stdout",
     "output_type": "stream",
     "text": [
      "Empty DataFrame\n",
      "Columns: [customerID, employeeID, orderDate, requiredDate, shippedDate, shipVia, freight, shipName, shipAddress, shipCity, shipRegion, shipPostalCode, shipCountry, orderID, productID, unitPrice, quantity, discount, total_amount]\n",
      "Index: []\n"
     ]
    }
   ],
   "source": [
    "# Step 4: Merge orders and order details\n",
    "orders_merged = pd.merge(orders_2023, order_details_df, on='orderID')\n",
    "print(orders_merged)"
   ]
  },
  {
   "cell_type": "code",
   "execution_count": 21,
   "metadata": {},
   "outputs": [],
   "source": [
    "# Step 5: Extract month and group by month to calculate total order amount per month\n",
    "orders_merged['month'] = orders_merged['orderDate'].dt.month\n",
    "monthly_totals = orders_merged.groupby('month')['total_amount'].sum()"
   ]
  },
  {
   "cell_type": "code",
   "execution_count": 22,
   "metadata": {},
   "outputs": [
    {
     "name": "stdout",
     "output_type": "stream",
     "text": [
      "Series([], Name: total_amount, dtype: float64)\n"
     ]
    }
   ],
   "source": [
    "# Display the total amount of orders for each month in 2023\n",
    "print(monthly_totals)"
   ]
  }
 ],
 "metadata": {
  "kernelspec": {
   "display_name": "Python 3",
   "language": "python",
   "name": "python3"
  },
  "language_info": {
   "codemirror_mode": {
    "name": "ipython",
    "version": 3
   },
   "file_extension": ".py",
   "mimetype": "text/x-python",
   "name": "python",
   "nbconvert_exporter": "python",
   "pygments_lexer": "ipython3",
   "version": "3.9.13"
  }
 },
 "nbformat": 4,
 "nbformat_minor": 2
}
