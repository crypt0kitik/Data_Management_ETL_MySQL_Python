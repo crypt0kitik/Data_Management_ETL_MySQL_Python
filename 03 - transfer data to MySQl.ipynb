{
 "cells": [
  {
   "cell_type": "code",
   "execution_count": 1,
   "metadata": {},
   "outputs": [],
   "source": [
    "import mysql.connector\n",
    "import pandas as pd"
   ]
  },
  {
   "cell_type": "code",
   "execution_count": 2,
   "metadata": {},
   "outputs": [],
   "source": [
    "# Establish a connection to the MySQL database\n",
    "connection = mysql.connector.connect(\n",
    "    host=\"localhost\",\n",
    "    user=\"root\", \n",
    "    password=\"0000\", \n",
    "    database=\"northwind_star_schema\" \n",
    ")\n",
    "\n",
    "# Create a cursor object\n",
    "cursor = connection.cursor()"
   ]
  },
  {
   "cell_type": "code",
   "execution_count": 3,
   "metadata": {},
   "outputs": [],
   "source": [
    "# Read the CSV file into a pandas DataFrame\n",
    "csv_file = \"employee_dim.csv\"  # Path to your CSV file\n",
    "df = pd.read_csv(csv_file)"
   ]
  },
  {
   "cell_type": "code",
   "execution_count": 4,
   "metadata": {},
   "outputs": [],
   "source": [
    "\n",
    "# Map CSV column names to MySQL column names\n",
    "csv_to_db_mapping = {\n",
    "    \"employeeID\": \"employee_id\",\n",
    "    \"firstName\": \"first_name\",\n",
    "    \"lastName\": \"last_name\",\n",
    "    \"title\": \"title\",\n",
    "    \"titleOfCourtesy\": \"title_of_courtesy\",\n",
    "    \"birthDate\": \"birth_date\",\n",
    "    \"hireDate\": \"hire_date\",\n",
    "    \"address\": \"address\",\n",
    "    \"city\": \"city\",\n",
    "    \"region\": \"region\",\n",
    "    \"country\": \"country\",\n",
    "    \"postalCode\": \"postal_code\",\n",
    "    \"reportsTo\": \"reports_to\"\n",
    "}\n"
   ]
  },
  {
   "cell_type": "code",
   "execution_count": 12,
   "metadata": {},
   "outputs": [],
   "source": [
    "# Insert DataFrame rows into the MySQL table (skipping birthDate and hireDate)\n",
    "for i, row in df.iterrows():\n",
    "    sql = \"\"\"\n",
    "        INSERT INTO employee_dim (employee_id, first_name, last_name, title, title_of_courtesy, address, city, region, country, postal_code, reports_to)\n",
    "        VALUES (%s, %s, %s, %s, %s, %s, %s, %s, %s, %s, %s)\n",
    "    \"\"\"\n",
    "    # Only select the relevant fields for the insertion query\n",
    "    data = (\n",
    "        row['employeeID'], row['firstName'], row['lastName'], row['title'], row['titleOfCourtesy'],\n",
    "        row['address'], row['city'], row['region'], row['country'], row['postalCode'], row['reportsTo']\n",
    "    )\n",
    "    \n",
    "    cursor.execute(sql, data)\n",
    "    connection.commit()"
   ]
  },
  {
   "cell_type": "code",
   "execution_count": 13,
   "metadata": {},
   "outputs": [
    {
     "name": "stdout",
     "output_type": "stream",
     "text": [
      "Data inserted successfully from CSV to MySQL!\n"
     ]
    }
   ],
   "source": [
    "\n",
    "\n",
    "# Step 6: Close the cursor and connection\n",
    "cursor.close()\n",
    "connection.close()\n",
    "\n",
    "print(\"Data inserted successfully from CSV to MySQL!\")"
   ]
  },
  {
   "cell_type": "code",
   "execution_count": 14,
   "metadata": {},
   "outputs": [
    {
     "name": "stdout",
     "output_type": "stream",
     "text": [
      "(1, 1, 'Nancy', 'Davolio', 'Sales Representative', 'Ms.', None, None, '507 - 20th Ave. E. Apt. 2A', 'Seattle', 'WA', 'USA', '98122', 2)\n",
      "(2, 2, 'Andrew', 'Fuller', 'Vice President, Sales', 'Dr.', None, None, '908 W. Capital Way', 'Tacoma', 'WA', 'USA', '98401', None)\n",
      "(3, 3, 'Janet', 'Leverling', 'Sales Representative', 'Ms.', None, None, '722 Moss Bay Blvd.', 'Kirkland', 'WA', 'USA', '98033', 2)\n",
      "(4, 4, 'Margaret', 'Peacock', 'Sales Representative', 'Mrs.', None, None, '4110 Old Redmond Rd.', 'Redmond', 'WA', 'USA', '98052', 2)\n",
      "(5, 5, 'Steven', 'Buchanan', 'Sales Manager', 'Mr.', None, None, '14 Garrett Hill', 'London', None, 'UK', 'SW1 8JR', 2)\n",
      "(6, 6, 'Michael', 'Suyama', 'Sales Representative', 'Mr.', None, None, 'Coventry House Miner Rd.', 'London', None, 'UK', 'EC2 7JR', 5)\n",
      "(7, 7, 'Robert', 'King', 'Sales Representative', 'Mr.', None, None, 'Edgeham Hollow Winchester Way', 'London', None, 'UK', 'RG1 9SP', 5)\n",
      "(8, 8, 'Laura', 'Callahan', 'Inside Sales Coordinator', 'Ms.', None, None, '4726 - 11th Ave. N.E.', 'Seattle', 'WA', 'USA', '98105', 2)\n",
      "(9, 9, 'Anne', 'Dodsworth', 'Sales Representative', 'Ms.', None, None, '7 Houndstooth Rd.', 'London', None, 'UK', 'WG2 7LT', 5)\n"
     ]
    }
   ],
   "source": [
    "# Checking that data was inserted correctly\n",
    "\n",
    "# Establish connection to the MySQL database\n",
    "connection = mysql.connector.connect(\n",
    "    host=\"localhost\",\n",
    "    user=\"root\",\n",
    "    password=\"0000\",\n",
    "    database=\"northwind_star_schema\"\n",
    ")\n",
    "\n",
    "# Create a cursor object\n",
    "cursor = connection.cursor()\n",
    "\n",
    "# SQL query to check the data\n",
    "query = \"SELECT * FROM employee_dim LIMIT 10;\"  # Fetch the first 10 rows for inspection\n",
    "\n",
    "# Execute the query\n",
    "cursor.execute(query)\n",
    "\n",
    "# Fetch all rows\n",
    "rows = cursor.fetchall()\n",
    "\n",
    "# Print the fetched rows\n",
    "for row in rows:\n",
    "    print(row)\n",
    "\n",
    "# Close the cursor and connection\n",
    "cursor.close()\n",
    "connection.close()\n"
   ]
  }
 ],
 "metadata": {
  "kernelspec": {
   "display_name": "Python 3",
   "language": "python",
   "name": "python3"
  },
  "language_info": {
   "codemirror_mode": {
    "name": "ipython",
    "version": 3
   },
   "file_extension": ".py",
   "mimetype": "text/x-python",
   "name": "python",
   "nbconvert_exporter": "python",
   "pygments_lexer": "ipython3",
   "version": "3.9.13"
  }
 },
 "nbformat": 4,
 "nbformat_minor": 2
}
