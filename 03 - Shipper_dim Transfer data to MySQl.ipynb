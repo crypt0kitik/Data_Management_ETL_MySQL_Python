{
 "cells": [
  {
   "cell_type": "code",
   "execution_count": 1,
   "metadata": {},
   "outputs": [],
   "source": [
    "import mysql.connector\n",
    "import pandas as pd"
   ]
  },
  {
   "cell_type": "code",
   "execution_count": 2,
   "metadata": {},
   "outputs": [],
   "source": [
    "# Establish a connection to the MySQL database\n",
    "connection = mysql.connector.connect(\n",
    "    host=\"localhost\",\n",
    "    user=\"root\", \n",
    "    password=\"0000\", \n",
    "    database=\"northwind_star_schema\" \n",
    ")\n",
    "\n",
    "# Create a cursor object\n",
    "cursor = connection.cursor()"
   ]
  },
  {
   "cell_type": "code",
   "execution_count": 3,
   "metadata": {},
   "outputs": [],
   "source": [
    "# Read the CSV file into a pandas DataFrame\n",
    "csv_file = \"shippers.csv\"  # Path to your CSV file\n",
    "df = pd.read_csv(csv_file)"
   ]
  },
  {
   "cell_type": "code",
   "execution_count": 4,
   "metadata": {},
   "outputs": [],
   "source": [
    "\n",
    "# Map CSV column names to MySQL column names\n",
    "csv_to_db_mapping = {\n",
    "    \"shipperID\": \"shipper_id\",\n",
    "    \"companyName\": \"company_name\"\n",
    "}\n"
   ]
  },
  {
   "cell_type": "code",
   "execution_count": 5,
   "metadata": {},
   "outputs": [],
   "source": [
    "# Insert DataFrame rows into the MySQL table (including categoryName)\n",
    "for i, row in df.iterrows():\n",
    "    sql = \"\"\"\n",
    "        INSERT INTO shipper_dim (shipper_id, company_name)\n",
    "        VALUES (%s, %s)\n",
    "    \"\"\"\n",
    "    # Only select the relevant fields for the insertion query\n",
    "    data = (\n",
    "        row['shipperID'], row['companyName']\n",
    "    )\n",
    "\n",
    "    cursor.execute(sql, data)\n",
    "    connection.commit()\n"
   ]
  },
  {
   "cell_type": "code",
   "execution_count": 6,
   "metadata": {},
   "outputs": [
    {
     "name": "stdout",
     "output_type": "stream",
     "text": [
      "Data inserted successfully from CSV to MySQL!\n"
     ]
    }
   ],
   "source": [
    "\n",
    "\n",
    "# Step 6: Close the cursor and connection\n",
    "cursor.close()\n",
    "connection.close()\n",
    "\n",
    "print(\"Data inserted successfully from CSV to MySQL!\")"
   ]
  },
  {
   "cell_type": "code",
   "execution_count": 7,
   "metadata": {},
   "outputs": [
    {
     "name": "stdout",
     "output_type": "stream",
     "text": [
      "(1, 1, 'Speedy Express')\n",
      "(2, 2, 'United Package')\n",
      "(3, 3, 'Federal Shipping')\n"
     ]
    }
   ],
   "source": [
    "# Checking that data was inserted correctly\n",
    "\n",
    "# Establish connection to the MySQL database\n",
    "connection = mysql.connector.connect(\n",
    "    host=\"localhost\",\n",
    "    user=\"root\",\n",
    "    password=\"0000\",\n",
    "    database=\"northwind_star_schema\"\n",
    ")\n",
    "\n",
    "# Create a cursor object\n",
    "cursor = connection.cursor()\n",
    "\n",
    "# SQL query to check the data\n",
    "query = \"SELECT * FROM shipper_dim LIMIT 10;\"  # Fetch the first 10 rows for inspection\n",
    "\n",
    "# Execute the query\n",
    "cursor.execute(query)\n",
    "\n",
    "# Fetch all rows\n",
    "rows = cursor.fetchall()\n",
    "\n",
    "# Print the fetched rows\n",
    "for row in rows:\n",
    "    print(row)\n",
    "\n",
    "# Close the cursor and connection\n",
    "cursor.close()\n",
    "connection.close()\n",
    "\n",
    "\n",
    "# I also made a query in MySQL workbench to check that data was inserted correctly"
   ]
  }
 ],
 "metadata": {
  "kernelspec": {
   "display_name": "Python 3",
   "language": "python",
   "name": "python3"
  },
  "language_info": {
   "codemirror_mode": {
    "name": "ipython",
    "version": 3
   },
   "file_extension": ".py",
   "mimetype": "text/x-python",
   "name": "python",
   "nbconvert_exporter": "python",
   "pygments_lexer": "ipython3",
   "version": "3.9.13"
  }
 },
 "nbformat": 4,
 "nbformat_minor": 2
}
