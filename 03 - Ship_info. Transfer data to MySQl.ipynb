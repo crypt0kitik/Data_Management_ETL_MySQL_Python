{
 "cells": [
  {
   "cell_type": "code",
   "execution_count": 4,
   "metadata": {},
   "outputs": [],
   "source": [
    "import mysql.connector\n",
    "import pandas as pd"
   ]
  },
  {
   "cell_type": "code",
   "execution_count": 5,
   "metadata": {},
   "outputs": [],
   "source": [
    "# Establish a connection to the MySQL database\n",
    "connection = mysql.connector.connect(\n",
    "    host=\"localhost\",\n",
    "    user=\"root\", \n",
    "    password=\"0000\", \n",
    "    database=\"northwind_star_schema\" \n",
    ")\n",
    "\n",
    "# Create a cursor object\n",
    "cursor = connection.cursor()"
   ]
  },
  {
   "cell_type": "code",
   "execution_count": 6,
   "metadata": {},
   "outputs": [],
   "source": [
    "# Read the CSV file into a pandas DataFrame\n",
    "csv_file = \"products_df.csv\"  # Path to your CSV file\n",
    "df = pd.read_csv(csv_file)"
   ]
  },
  {
   "cell_type": "code",
   "execution_count": 7,
   "metadata": {},
   "outputs": [],
   "source": [
    "\n",
    "# Map CSV column names to MySQL column names\n",
    "csv_to_db_mapping = {\n",
    "    \"productID\": \"product_id\",\n",
    "    \"productName\": \"product_name\",\n",
    "    \"quantityPerUnit\": \"quantity_per_unit\",\n",
    "    \"unitPrice\": \"unit_price\",\n",
    "    \"unitsInStock\": \"units_in_stock\",\n",
    "    \"unitsOnOrder\": \"units_on_order\",\n",
    "    \"reorderLevel\": \"reorder_level\",\n",
    "    \"discontinued\": \"discontinued\",\n",
    "    \"categoryName\": \"category_name\"\n",
    "}"
   ]
  },
  {
   "cell_type": "code",
   "execution_count": 11,
   "metadata": {},
   "outputs": [],
   "source": [
    "# Insert DataFrame rows into the MySQL table (including categoryName)\n",
    "for i, row in df.iterrows():\n",
    "    sql = \"\"\"\n",
    "        INSERT INTO product_dim (product_id, product_name, quantity_per_unit, unit_price, units_in_stock, \n",
    "        units_on_order, reorder_level, discontinued, category_name)\n",
    "        VALUES (%s, %s, %s, %s, %s, %s, %s, %s, %s)\n",
    "    \"\"\"\n",
    "    # Only select the relevant fields for the insertion query\n",
    "    data = (\n",
    "        row['productID'], row['productName'], row['quantityPerUnit'], row['unitPrice'], row['unitsInStock'],\n",
    "        row['unitsOnOrder'], row['reorderLevel'], row['discontinued'], row['categoryName']  # Adding categoryName here\n",
    "    )\n",
    "\n",
    "    cursor.execute(sql, data)\n",
    "    connection.commit()\n"
   ]
  },
  {
   "cell_type": "code",
   "execution_count": 12,
   "metadata": {},
   "outputs": [
    {
     "name": "stdout",
     "output_type": "stream",
     "text": [
      "Data inserted successfully from CSV to MySQL!\n"
     ]
    }
   ],
   "source": [
    "\n",
    "\n",
    "# Step 6: Close the cursor and connection\n",
    "cursor.close()\n",
    "connection.close()\n",
    "\n",
    "print(\"Data inserted successfully from CSV to MySQL!\")"
   ]
  },
  {
   "cell_type": "code",
   "execution_count": 14,
   "metadata": {},
   "outputs": [
    {
     "name": "stdout",
     "output_type": "stream",
     "text": [
      "(1, 1, 'Chai', '10 boxes x 20 bags', 18.0, 39, 0, 10, 0, 'Beverages')\n",
      "(2, 2, 'Chang', '24 - 12 oz bottles', 19.0, 17, 40, 25, 0, 'Beverages')\n",
      "(3, 3, 'Aniseed Syrup', '12 - 550 ml bottles', 10.0, 13, 70, 25, 0, 'Beverages')\n",
      "(4, 4, \"Chef Anton's Cajun Seasoning\", '48 - 6 oz jars', 22.0, 53, 0, 0, 0, 'Condiments')\n",
      "(5, 5, \"Chef Anton's Gumbo Mix\", '36 boxes', 21.35, 0, 0, 0, 1, 'Unknown')\n",
      "(6, 6, \"Grandma's Boysenberry Spread\", '12 - 8 oz jars', 25.0, 120, 0, 25, 0, 'Condiments')\n",
      "(7, 7, \"Uncle Bob's Organic Dried Pears\", '12 - 1 lb pkgs.', 30.0, 15, 0, 10, 0, 'Grains/Cereals')\n",
      "(8, 8, 'Northwoods Cranberry Sauce', '12 - 12 oz jars', 40.0, 6, 0, 0, 0, 'Condiments')\n",
      "(9, 9, 'Mishi Kobe Niku', '18 - 500 g pkgs.', 97.0, 29, 0, 0, 1, 'Meat/Poultry')\n",
      "(10, 10, 'Ikura', '12 - 200 ml jars', 31.0, 31, 0, 0, 0, 'Confections')\n"
     ]
    }
   ],
   "source": [
    "# Checking that data was inserted correctly\n",
    "\n",
    "# Establish connection to the MySQL database\n",
    "connection = mysql.connector.connect(\n",
    "    host=\"localhost\",\n",
    "    user=\"root\",\n",
    "    password=\"0000\",\n",
    "    database=\"northwind_star_schema\"\n",
    ")\n",
    "\n",
    "# Create a cursor object\n",
    "cursor = connection.cursor()\n",
    "\n",
    "# SQL query to check the data\n",
    "query = \"SELECT * FROM product_dim LIMIT 10;\"  # Fetch the first 10 rows for inspection\n",
    "\n",
    "# Execute the query\n",
    "cursor.execute(query)\n",
    "\n",
    "# Fetch all rows\n",
    "rows = cursor.fetchall()\n",
    "\n",
    "# Print the fetched rows\n",
    "for row in rows:\n",
    "    print(row)\n",
    "\n",
    "# Close the cursor and connection\n",
    "cursor.close()\n",
    "connection.close()\n",
    "\n",
    "\n",
    "# I also made a query in MySQL workbench to check that data was inserted correctly"
   ]
  }
 ],
 "metadata": {
  "kernelspec": {
   "display_name": "Python 3",
   "language": "python",
   "name": "python3"
  },
  "language_info": {
   "codemirror_mode": {
    "name": "ipython",
    "version": 3
   },
   "file_extension": ".py",
   "mimetype": "text/x-python",
   "name": "python",
   "nbconvert_exporter": "python",
   "pygments_lexer": "ipython3",
   "version": "3.9.13"
  }
 },
 "nbformat": 4,
 "nbformat_minor": 2
}
