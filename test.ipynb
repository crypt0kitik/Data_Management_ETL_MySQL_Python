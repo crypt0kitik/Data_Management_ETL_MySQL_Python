{
 "cells": [
  {
   "cell_type": "code",
   "execution_count": 2,
   "metadata": {},
   "outputs": [
    {
     "name": "stdout",
     "output_type": "stream",
     "text": [
      "Error: Use multi=True when executing multiple statements\n"
     ]
    }
   ],
   "source": [
    "import mysql.connector\n",
    "\n",
    "# Step 1: Connect to the MySQL database\n",
    "connection = mysql.connector.connect(\n",
    "    host=\"localhost\",\n",
    "    user=\"root\", \n",
    "    password=\"0000\", \n",
    "    database=\"northwind_star_schema\" \n",
    ")\n",
    "\n",
    "\n",
    "# Step 2: Create a cursor object\n",
    "cursor = connection.cursor()\n",
    "\n",
    "# Step 3: Write the SQL query to alter the column type of 'ship_city'\n",
    "alter_table_query = \"\"\"\n",
    "    ALTER TABLE ship_info\n",
    "    MODIFY COLUMN ship_city VARCHAR(100);  -- Change to your desired type and size\n",
    "\"\"\"\n",
    "\n",
    "try:\n",
    "    # Step 4: Execute the SQL query\n",
    "    cursor.execute(alter_table_query)\n",
    "    \n",
    "    # Step 5: Commit the changes\n",
    "    connection.commit()\n",
    "    print(\"Column type of 'ship_city' changed successfully.\")\n",
    "    \n",
    "except mysql.connector.Error as err:\n",
    "    print(f\"Error: {err}\")\n",
    "    \n",
    "finally:\n",
    "    # Step 6: Close the cursor and the connection\n",
    "    cursor.close()\n",
    "    connection.close()\n"
   ]
  }
 ],
 "metadata": {
  "kernelspec": {
   "display_name": "Python 3",
   "language": "python",
   "name": "python3"
  },
  "language_info": {
   "codemirror_mode": {
    "name": "ipython",
    "version": 3
   },
   "file_extension": ".py",
   "mimetype": "text/x-python",
   "name": "python",
   "nbconvert_exporter": "python",
   "pygments_lexer": "ipython3",
   "version": "3.9.13"
  }
 },
 "nbformat": 4,
 "nbformat_minor": 2
}
