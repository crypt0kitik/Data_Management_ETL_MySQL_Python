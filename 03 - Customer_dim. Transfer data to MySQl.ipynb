{
 "cells": [
  {
   "cell_type": "code",
   "execution_count": 11,
   "metadata": {},
   "outputs": [],
   "source": [
    "import mysql.connector\n",
    "import pandas as pd"
   ]
  },
  {
   "cell_type": "code",
   "execution_count": 12,
   "metadata": {},
   "outputs": [],
   "source": [
    "# Establish a connection to the MySQL database\n",
    "connection = mysql.connector.connect(\n",
    "    host=\"localhost\",\n",
    "    user=\"root\", \n",
    "    password=\"0000\", \n",
    "    database=\"northwind_star_schema\" \n",
    ")\n",
    "\n",
    "# Create a cursor object\n",
    "cursor = connection.cursor()"
   ]
  },
  {
   "cell_type": "code",
   "execution_count": 13,
   "metadata": {},
   "outputs": [],
   "source": [
    "# Read the CSV file into a pandas DataFrame\n",
    "csv_file = \"customer_dim.csv\"  # Path to your CSV file\n",
    "df = pd.read_csv(csv_file)"
   ]
  },
  {
   "cell_type": "code",
   "execution_count": 14,
   "metadata": {},
   "outputs": [
    {
     "data": {
      "text/plain": [
       "customerID       0\n",
       "companyName      0\n",
       "contactName      0\n",
       "contactTitle     0\n",
       "region          45\n",
       "dtype: int64"
      ]
     },
     "execution_count": 14,
     "metadata": {},
     "output_type": "execute_result"
    }
   ],
   "source": [
    "# Check all NaN values --> delete if there are \n",
    "df.isna().sum()"
   ]
  },
  {
   "cell_type": "code",
   "execution_count": 15,
   "metadata": {},
   "outputs": [],
   "source": [
    "# drop nan values\n",
    "df = df.dropna()\n"
   ]
  },
  {
   "cell_type": "code",
   "execution_count": 16,
   "metadata": {},
   "outputs": [
    {
     "data": {
      "text/plain": [
       "0"
      ]
     },
     "execution_count": 16,
     "metadata": {},
     "output_type": "execute_result"
    }
   ],
   "source": [
    "# checking duplicates\n",
    "df.duplicated().sum()"
   ]
  },
  {
   "cell_type": "code",
   "execution_count": 17,
   "metadata": {},
   "outputs": [],
   "source": [
    "\n",
    "# Map CSV column names to MySQL column names\n",
    "csv_to_db_mapping = {\n",
    "    \"customerID\": \"company_name\",\n",
    "    \"companyName\": \"customer_id\",\n",
    "    \"contactName\": \"contact_name\",\n",
    "    \"contactTitle\": \"contact_title\"\n",
    "}"
   ]
  },
  {
   "cell_type": "code",
   "execution_count": 18,
   "metadata": {},
   "outputs": [],
   "source": [
    "# Insert DataFrame rows into the MySQL table (skipping birthDate and hireDate)\n",
    "for i, row in df.iterrows():\n",
    "    sql = \"\"\"\n",
    "        INSERT INTO customer_dim (company_name, customer_id, contact_name, contact_title)\n",
    "        VALUES (%s, %s, %s, %s)\n",
    "    \"\"\"\n",
    "    # Only select the relevant fields for the insertion query\n",
    "    data = (\n",
    "        row['customerID'], row['companyName'], row['contactName'], row['contactTitle']\n",
    "    )\n",
    "    \n",
    "    cursor.execute(sql, data)\n",
    "    connection.commit()"
   ]
  },
  {
   "cell_type": "code",
   "execution_count": 19,
   "metadata": {},
   "outputs": [
    {
     "name": "stdout",
     "output_type": "stream",
     "text": [
      "Data inserted successfully from CSV to MySQL!\n"
     ]
    }
   ],
   "source": [
    "\n",
    "\n",
    "# Step 6: Close the cursor and connection\n",
    "cursor.close()\n",
    "connection.close()\n",
    "\n",
    "print(\"Data inserted successfully from CSV to MySQL!\")"
   ]
  },
  {
   "cell_type": "code",
   "execution_count": 20,
   "metadata": {},
   "outputs": [
    {
     "name": "stdout",
     "output_type": "stream",
     "text": [
      "(1, 'Alfreds Futterkiste', 'ALFKI', 'Maria Anders', 'Sales Representative')\n",
      "(2, 'Ana Trujillo Emparedados y helados', 'ANATR', 'Ana Trujillo', 'Owner')\n",
      "(3, 'Antonio Moreno Taquería', 'ANTON', 'Antonio Moreno', 'Owner')\n",
      "(4, 'Around the Horn', 'AROUT', 'Thomas Hardy', 'Sales Representative')\n",
      "(5, 'Berglunds snabbköp', 'BERGS', 'Christina Berglund', 'Order Administrator')\n",
      "(6, 'Blauer See Delikatessen', 'BLAUS', 'Hanna Moos', 'Sales Representative')\n",
      "(7, 'Blondesddsl père et fils', 'BLONP', 'Frédérique Citeaux', 'Marketing Manager')\n",
      "(8, 'Bólido Comidas preparadas', 'BOLID', 'Martín Sommer', 'Owner')\n",
      "(9, \"Bon app'\", 'BONAP', 'Laurence Lebihan', 'Owner')\n",
      "(10, 'Bottom-Dollar Markets', 'BOTTM', 'Elizabeth Lincoln', 'Accounting Manager')\n"
     ]
    }
   ],
   "source": [
    "# Checking that data was inserted correctly\n",
    "\n",
    "# Establish connection to the MySQL database\n",
    "connection = mysql.connector.connect(\n",
    "    host=\"localhost\",\n",
    "    user=\"root\",\n",
    "    password=\"0000\",\n",
    "    database=\"northwind_star_schema\"\n",
    ")\n",
    "\n",
    "# Create a cursor object\n",
    "cursor = connection.cursor()\n",
    "\n",
    "# SQL query to check the data\n",
    "query = \"SELECT * FROM customer_dim LIMIT 10;\"  # Fetch the first 10 rows for inspection\n",
    "\n",
    "# Execute the query\n",
    "cursor.execute(query)\n",
    "\n",
    "# Fetch all rows\n",
    "rows = cursor.fetchall()\n",
    "\n",
    "# Print the fetched rows\n",
    "for row in rows:\n",
    "    print(row)\n",
    "\n",
    "# Close the cursor and connection\n",
    "cursor.close()\n",
    "connection.close()\n"
   ]
  }
 ],
 "metadata": {
  "kernelspec": {
   "display_name": "Python 3",
   "language": "python",
   "name": "python3"
  },
  "language_info": {
   "codemirror_mode": {
    "name": "ipython",
    "version": 3
   },
   "file_extension": ".py",
   "mimetype": "text/x-python",
   "name": "python",
   "nbconvert_exporter": "python",
   "pygments_lexer": "ipython3",
   "version": "3.9.13"
  }
 },
 "nbformat": 4,
 "nbformat_minor": 2
}
