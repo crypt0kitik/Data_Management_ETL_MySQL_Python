{
 "cells": [
  {
   "cell_type": "code",
   "execution_count": 1,
   "metadata": {},
   "outputs": [],
   "source": [
    "import mysql.connector\n",
    "import pandas as pd"
   ]
  },
  {
   "cell_type": "code",
   "execution_count": 3,
   "metadata": {},
   "outputs": [],
   "source": [
    "# Load product data from CSV\n",
    "products_df = pd.read_csv('product_dim.csv')\n",
    "\n",
    "# Load category data from CSV\n",
    "categories_df = pd.read_csv('categories.csv')"
   ]
  },
  {
   "cell_type": "code",
   "execution_count": 5,
   "metadata": {},
   "outputs": [
    {
     "name": "stdout",
     "output_type": "stream",
     "text": [
      "    productID                      productName    categoryName\n",
      "0           1                             Chai       Beverages\n",
      "1           2                            Chang       Beverages\n",
      "2           3                    Aniseed Syrup       Beverages\n",
      "3           4     Chef Anton's Cajun Seasoning      Condiments\n",
      "4           5           Chef Anton's Gumbo Mix         Unknown\n",
      "..        ...                              ...             ...\n",
      "72         73                       Röd Kaviar         Unknown\n",
      "73         74                    Longlife Tofu  Dairy Products\n",
      "74         75             Rhönbräu Klosterbier         Unknown\n",
      "75         76                     Lakkalikööri         Unknown\n",
      "76         77  Original Frankfurter grüne Soße         Unknown\n",
      "\n",
      "[77 rows x 3 columns]\n"
     ]
    }
   ],
   "source": [
    "# Category mapping based on keywords in product names\n",
    "category_mapping = {\n",
    "    'Beverages': ['Chai', 'Chang', 'Aniseed Syrup', 'Apple Cider', 'Sasquatch Ale', 'Steeleye Stout'],\n",
    "    'Condiments': ['Chef Anton\\'s Cajun Seasoning', 'Grandma\\'s Boysenberry Spread', 'Northwoods Cranberry Sauce', 'Gumbär Gummibärchen', 'Genen Shouyu'],\n",
    "    'Confections': ['Ikura', 'Chocolade', 'Rössle Sauerkraut', 'Schoggi Schokolade', 'Gorgonzola Telino', 'NuNuCa Nuß-Nougat-Creme'],\n",
    "    'Dairy Products': ['Queso Cabrales', 'Mascarpone Fabioli', 'Gnocchi di nonna Alice', 'Fløtemysost', 'Konbu', 'Tofu'],\n",
    "    'Grains/Cereals': ['Alice Mutton', 'Uncle Bob\\'s Organic Dried Pears', 'Teatime Chocolate Biscuits', 'Ravioli Angelo', 'Alice\\'s Golden Syrup'],\n",
    "    'Meat/Poultry': ['Mishi Kobe Niku', 'Pavlova', 'Thüringer Rostbratwurst', 'Nord-Ost Matjeshering', 'Tunnbröd', 'Inlagd Sill'],\n",
    "    'Produce': ['Queso Manchego La Pastora', 'Boston Crab Meat', 'Ikura', 'Gravad lax'],\n",
    "    'Seafood': ['Jack\\'s New England Clam Chowder', 'Côte de Blaye', 'Chartreuse verte', 'Mishi Kobe Niku', 'Guaraná Fantástica'],\n",
    "}\n",
    "\n",
    "# Function to categorize products based on productName\n",
    "def categorize_product(product_name):\n",
    "    for category, products in category_mapping.items():\n",
    "        if any(keyword in product_name for keyword in products):\n",
    "            return category\n",
    "    return 'Unknown'  # Default category if no match is found\n",
    "\n",
    "# Apply the categorization function to the product data\n",
    "products_df['categoryName'] = products_df['productName'].apply(categorize_product)\n",
    "\n",
    "# Display the DataFrame with the assigned categories\n",
    "print(products_df[['productID', 'productName', 'categoryName']])\n"
   ]
  },
  {
   "cell_type": "code",
   "execution_count": 6,
   "metadata": {},
   "outputs": [
    {
     "name": "stdout",
     "output_type": "stream",
     "text": [
      "Number of products with unknown category: 38\n"
     ]
    }
   ],
   "source": [
    "# Count the number of products with 'Unknown' category\n",
    "unknown_category_count = (products_df['categoryName'] == 'Unknown').sum()\n",
    "\n",
    "# Print the number of products with 'Unknown' category\n",
    "print(f\"Number of products with unknown category: {unknown_category_count}\")\n"
   ]
  }
 ],
 "metadata": {
  "kernelspec": {
   "display_name": "Python 3",
   "language": "python",
   "name": "python3"
  },
  "language_info": {
   "codemirror_mode": {
    "name": "ipython",
    "version": 3
   },
   "file_extension": ".py",
   "mimetype": "text/x-python",
   "name": "python",
   "nbconvert_exporter": "python",
   "pygments_lexer": "ipython3",
   "version": "3.9.13"
  }
 },
 "nbformat": 4,
 "nbformat_minor": 2
}
