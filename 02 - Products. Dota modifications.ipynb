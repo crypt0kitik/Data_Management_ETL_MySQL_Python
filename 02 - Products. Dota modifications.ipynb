{
 "cells": [
  {
   "cell_type": "code",
   "execution_count": 2,
   "metadata": {},
   "outputs": [],
   "source": [
    "import mysql.connector\n",
    "import pandas as pd"
   ]
  },
  {
   "cell_type": "code",
   "execution_count": 3,
   "metadata": {},
   "outputs": [],
   "source": [
    "# Load product data from CSV\n",
    "products_df = pd.read_csv('product_dim.csv')\n",
    "\n",
    "# Load category data from CSV\n",
    "categories_df = pd.read_csv('categories.csv')"
   ]
  },
  {
   "cell_type": "code",
   "execution_count": 4,
   "metadata": {},
   "outputs": [
    {
     "name": "stdout",
     "output_type": "stream",
     "text": [
      "    productID                      productName    categoryName\n",
      "0           1                             Chai       Beverages\n",
      "1           2                            Chang       Beverages\n",
      "2           3                    Aniseed Syrup       Beverages\n",
      "3           4     Chef Anton's Cajun Seasoning      Condiments\n",
      "4           5           Chef Anton's Gumbo Mix         Unknown\n",
      "..        ...                              ...             ...\n",
      "72         73                       Röd Kaviar         Unknown\n",
      "73         74                    Longlife Tofu  Dairy Products\n",
      "74         75             Rhönbräu Klosterbier         Unknown\n",
      "75         76                     Lakkalikööri         Unknown\n",
      "76         77  Original Frankfurter grüne Soße         Unknown\n",
      "\n",
      "[77 rows x 3 columns]\n"
     ]
    }
   ],
   "source": [
    "# Category mapping based on keywords in product names\n",
    "category_mapping = {\n",
    "    'Beverages': ['Chai', 'Chang', 'Aniseed Syrup', 'Apple Cider', 'Sasquatch Ale', 'Steeleye Stout'],\n",
    "    'Condiments': ['Chef Anton\\'s Cajun Seasoning', 'Grandma\\'s Boysenberry Spread', 'Northwoods Cranberry Sauce', 'Gumbär Gummibärchen', 'Genen Shouyu'],\n",
    "    'Confections': ['Ikura', 'Chocolade', 'Rössle Sauerkraut', 'Schoggi Schokolade', 'Gorgonzola Telino', 'NuNuCa Nuß-Nougat-Creme'],\n",
    "    'Dairy Products': ['Queso Cabrales', 'Mascarpone Fabioli', 'Gnocchi di nonna Alice', 'Fløtemysost', 'Konbu', 'Tofu'],\n",
    "    'Grains/Cereals': ['Alice Mutton', 'Uncle Bob\\'s Organic Dried Pears', 'Teatime Chocolate Biscuits', 'Ravioli Angelo', 'Alice\\'s Golden Syrup'],\n",
    "    'Meat/Poultry': ['Mishi Kobe Niku', 'Pavlova', 'Thüringer Rostbratwurst', 'Nord-Ost Matjeshering', 'Tunnbröd', 'Inlagd Sill'],\n",
    "    'Produce': ['Queso Manchego La Pastora', 'Boston Crab Meat', 'Ikura', 'Gravad lax'],\n",
    "    'Seafood': ['Jack\\'s New England Clam Chowder', 'Côte de Blaye', 'Chartreuse verte', 'Mishi Kobe Niku', 'Guaraná Fantástica'],\n",
    "}\n",
    "\n",
    "# Function to categorize products based on productName\n",
    "def categorize_product(product_name):\n",
    "    for category, products in category_mapping.items():\n",
    "        if any(keyword in product_name for keyword in products):\n",
    "            return category\n",
    "    return 'Unknown'  # Default category if no match is found\n",
    "\n",
    "# Apply the categorization function to the product data\n",
    "products_df['categoryName'] = products_df['productName'].apply(categorize_product)\n",
    "\n",
    "# Display the DataFrame with the assigned categories\n",
    "print(products_df[['productID', 'productName', 'categoryName']])\n"
   ]
  },
  {
   "cell_type": "code",
   "execution_count": 5,
   "metadata": {},
   "outputs": [
    {
     "name": "stdout",
     "output_type": "stream",
     "text": [
      "Number of products with unknown category: 38\n"
     ]
    }
   ],
   "source": [
    "# Count the number of products with 'Unknown' category\n",
    "unknown_category_count = (products_df['categoryName'] == 'Unknown').sum()\n",
    "\n",
    "# Print the number of products with 'Unknown' category\n",
    "print(f\"Number of products with unknown category: {unknown_category_count}\")\n"
   ]
  },
  {
   "cell_type": "code",
   "execution_count": 6,
   "metadata": {},
   "outputs": [
    {
     "data": {
      "text/html": [
       "<div>\n",
       "<style scoped>\n",
       "    .dataframe tbody tr th:only-of-type {\n",
       "        vertical-align: middle;\n",
       "    }\n",
       "\n",
       "    .dataframe tbody tr th {\n",
       "        vertical-align: top;\n",
       "    }\n",
       "\n",
       "    .dataframe thead th {\n",
       "        text-align: right;\n",
       "    }\n",
       "</style>\n",
       "<table border=\"1\" class=\"dataframe\">\n",
       "  <thead>\n",
       "    <tr style=\"text-align: right;\">\n",
       "      <th></th>\n",
       "      <th>productID</th>\n",
       "      <th>productName</th>\n",
       "      <th>quantityPerUnit</th>\n",
       "      <th>unitPrice</th>\n",
       "      <th>unitsInStock</th>\n",
       "      <th>unitsOnOrder</th>\n",
       "      <th>reorderLevel</th>\n",
       "      <th>discontinued</th>\n",
       "      <th>categoryName</th>\n",
       "    </tr>\n",
       "  </thead>\n",
       "  <tbody>\n",
       "    <tr>\n",
       "      <th>0</th>\n",
       "      <td>1</td>\n",
       "      <td>Chai</td>\n",
       "      <td>10 boxes x 20 bags</td>\n",
       "      <td>18.00</td>\n",
       "      <td>39</td>\n",
       "      <td>0</td>\n",
       "      <td>10</td>\n",
       "      <td>0</td>\n",
       "      <td>Beverages</td>\n",
       "    </tr>\n",
       "    <tr>\n",
       "      <th>1</th>\n",
       "      <td>2</td>\n",
       "      <td>Chang</td>\n",
       "      <td>24 - 12 oz bottles</td>\n",
       "      <td>19.00</td>\n",
       "      <td>17</td>\n",
       "      <td>40</td>\n",
       "      <td>25</td>\n",
       "      <td>0</td>\n",
       "      <td>Beverages</td>\n",
       "    </tr>\n",
       "    <tr>\n",
       "      <th>2</th>\n",
       "      <td>3</td>\n",
       "      <td>Aniseed Syrup</td>\n",
       "      <td>12 - 550 ml bottles</td>\n",
       "      <td>10.00</td>\n",
       "      <td>13</td>\n",
       "      <td>70</td>\n",
       "      <td>25</td>\n",
       "      <td>0</td>\n",
       "      <td>Beverages</td>\n",
       "    </tr>\n",
       "    <tr>\n",
       "      <th>3</th>\n",
       "      <td>4</td>\n",
       "      <td>Chef Anton's Cajun Seasoning</td>\n",
       "      <td>48 - 6 oz jars</td>\n",
       "      <td>22.00</td>\n",
       "      <td>53</td>\n",
       "      <td>0</td>\n",
       "      <td>0</td>\n",
       "      <td>0</td>\n",
       "      <td>Condiments</td>\n",
       "    </tr>\n",
       "    <tr>\n",
       "      <th>4</th>\n",
       "      <td>5</td>\n",
       "      <td>Chef Anton's Gumbo Mix</td>\n",
       "      <td>36 boxes</td>\n",
       "      <td>21.35</td>\n",
       "      <td>0</td>\n",
       "      <td>0</td>\n",
       "      <td>0</td>\n",
       "      <td>1</td>\n",
       "      <td>Unknown</td>\n",
       "    </tr>\n",
       "  </tbody>\n",
       "</table>\n",
       "</div>"
      ],
      "text/plain": [
       "   productID                   productName      quantityPerUnit  unitPrice  \\\n",
       "0          1                          Chai   10 boxes x 20 bags      18.00   \n",
       "1          2                         Chang   24 - 12 oz bottles      19.00   \n",
       "2          3                 Aniseed Syrup  12 - 550 ml bottles      10.00   \n",
       "3          4  Chef Anton's Cajun Seasoning       48 - 6 oz jars      22.00   \n",
       "4          5        Chef Anton's Gumbo Mix             36 boxes      21.35   \n",
       "\n",
       "   unitsInStock  unitsOnOrder  reorderLevel  discontinued categoryName  \n",
       "0            39             0            10             0    Beverages  \n",
       "1            17            40            25             0    Beverages  \n",
       "2            13            70            25             0    Beverages  \n",
       "3            53             0             0             0   Condiments  \n",
       "4             0             0             0             1      Unknown  "
      ]
     },
     "execution_count": 6,
     "metadata": {},
     "output_type": "execute_result"
    }
   ],
   "source": [
    "# chechikng that evrything is okay\n",
    "products_df.head()"
   ]
  },
  {
   "cell_type": "code",
   "execution_count": 7,
   "metadata": {},
   "outputs": [],
   "source": [
    "# Save the DataFrame with categories to a new CSV file (optional)\n",
    "products_df.to_csv('products_df.csv', index=False)"
   ]
  }
 ],
 "metadata": {
  "kernelspec": {
   "display_name": "Python 3",
   "language": "python",
   "name": "python3"
  },
  "language_info": {
   "codemirror_mode": {
    "name": "ipython",
    "version": 3
   },
   "file_extension": ".py",
   "mimetype": "text/x-python",
   "name": "python",
   "nbconvert_exporter": "python",
   "pygments_lexer": "ipython3",
   "version": "3.9.13"
  }
 },
 "nbformat": 4,
 "nbformat_minor": 2
}
